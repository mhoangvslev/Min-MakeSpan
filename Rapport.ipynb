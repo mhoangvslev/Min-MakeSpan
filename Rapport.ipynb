{
 "cells": [
  {
   "cell_type": "markdown",
   "metadata": {},
   "source": [
    "# Complexité en temps"
   ]
  },
  {
   "cell_type": "markdown",
   "metadata": {},
   "source": [
    "## Génération des instances"
   ]
  },
  {
   "cell_type": "markdown",
   "metadata": {},
   "source": [
    "### Mode $I_m$\n",
    "```python\n",
    "    print(\"Saisissez m: \")\n",
    "    m = int(input())\n",
    "    tasks = np.concatenate((\n",
    "        [m for i in range(3)], # 3 itérations\n",
    "        np.repeat([m + i for i in range(1, m)], 2) # 2*m itération\n",
    "    ))\n",
    "\n",
    "    print(tasks)\n",
    "    instance = np.concatenate(([m, len(tasks)], tasks))\n",
    "```\n",
    "\n",
    "Donc la génération de l'instance $I_m$ prend $\\mathcal{O}(3+2m)$ temps."
   ]
  },
  {
   "cell_type": "markdown",
   "metadata": {},
   "source": [
    "### Mode $I_R$\n",
    "```python\n",
    "    instances = []\n",
    "    print(\"Saisissez n, m, k, min, max. Par exemple: 'n m k min max'\")\n",
    "    n, m, k, low, high = [int(item) for item in input().split()]\n",
    "    print(n, m, k, low, high)\n",
    "    for i in range(k):\n",
    "        instances.append( # append prend O(1) temps\n",
    "            # Génération un array de n élémént prend O(n) temps\n",
    "            np.concatenate(([m, n], np.random.random_integers(low, high, size=n)))\n",
    "        )\n",
    "```\n",
    "\n",
    "Donc la génération de l'instance $I_m$ prend $\\mathcal{O}(kn)$ temps."
   ]
  },
  {
   "cell_type": "markdown",
   "metadata": {},
   "source": [
    "## Copie en mémoire"
   ]
  },
  {
   "cell_type": "markdown",
   "metadata": {},
   "source": [
    "La fonction suivante permet de transformer une chaîne de caractère (fournie par $I_f$ ou $I_c$:\n",
    "\n",
    "```python\n",
    "def getTokenIfValid(seq: str):\n",
    "    \"\"\"Parse l'entrée et transforme en array\"\"\"\n",
    "    tokens = seq.split(\":\")\n",
    "    m, n, tasks = int(tokens[0]), int(tokens[1]), tokens[2:len(tokens)]\n",
    "    if(n != len(tasks)):\n",
    "        print(\"Il n'y a pas assez de tâches, il en faut n(\", n, \")\")\n",
    "        return None\n",
    "\n",
    "    return tokens   \n",
    "```\n",
    "\n",
    "La complexité dépend de la fonction ```split``` de Python, donc le [code source](https://github.com/python/cpython/blob/master/Objects/stringlib/split.h) est comme suit:\n",
    "\n",
    "```c\n",
    "    while (maxcount-- > 0) {\n",
    "        while (i < str_len && STRINGLIB_ISSPACE(str[i]))\n",
    "            i++;\n",
    "        if (i == str_len) break;\n",
    "        j = i; i++;\n",
    "        while (i < str_len && !STRINGLIB_ISSPACE(str[i]))\n",
    "            i++;\n",
    "```\n",
    "\n",
    "On peut déduire facilement que ```split``` s'éxécute en $\\mathcal{O}(s)$ temps, avec $s$ étant la longueur de la chaîne de caractères en question. Finalemet,\n",
    "La copie en mémoire des instances prend $\\mathcal{O}(s)$ temps."
   ]
  },
  {
   "cell_type": "markdown",
   "metadata": {},
   "source": [
    "## Les algorithmes pour le problème Min-Makespan"
   ]
  },
  {
   "cell_type": "markdown",
   "metadata": {},
   "source": [
    "### ```LSA```\n",
    "\n",
    "```python\n",
    "def LSA(m: int, tasks: list):\n",
    "    \"\"\"Les tâches seront traités dans l'ordre tel qu'elles sont fournies\"\"\"\n",
    "\n",
    "    M = dict([(i, []) for i in range(1, m+1)])\n",
    "    \n",
    "    for task in tasks: # n itération\n",
    "        availIdx = 1\n",
    "        loads = dict(map(lambda item: (item[0], sum(item[1])), M.items())) \n",
    "        availIdx = min(loads, key=loads.get)\n",
    "        M[availIdx].append(task)\n",
    "    \n",
    "    return M\n",
    "```\n",
    "\n",
    "Le mapping consiste à parcourir chacun de $m$ machines puis faire une somme des durées. \n",
    "- $d'_1$: ```loads``` contient 1 tâche,\n",
    "- $d'_2$: ```loads``` contient 2 tâches \n",
    "- ...\n",
    "- $d'_n$: ```loads``` contient $n$ tâches\n",
    "\n",
    "A chaque itération on fait ```min``` et ```sum``` du nombre de tâches au courant. Le nombre d'itérations au total est donc 2 fois (2 opérations) la somme d'une suite arithmétique $(1, 2, ..., n)$, donc $\\frac{2n(n+1)}{2} = n(n+1) = n^2 + n$. Au final, ```LSA``` prend $\\mathcal{O}(n^2)$ temps.\n"
   ]
  },
  {
   "cell_type": "markdown",
   "metadata": {},
   "source": [
    "### ```LPT```\n",
    "\n",
    "```python\n",
    "def LPT(m: int, tasks: list):\n",
    "    \"\"\"Les tâches seront traités dans l'ordre décroissant de leur durée\"\"\"\n",
    "\n",
    "    M = dict([(i, []) for i in range(1, m+1)])\n",
    "    # Trier selon l'ordre décroissant, O(n*log(n)) mergesort \n",
    "    tasks = np.sort(tasks, kind=\"mergesort\")[::-1] \n",
    "    #tasks = np.sort(tasks)[::-1] # O(n^2) quicksort par défaut\n",
    "    \n",
    "    for task in tasks:\n",
    "        availIdx = 1\n",
    "        loads = dict(map(lambda item: (item[0], sum(item[1])), M.items())) \n",
    "        availIdx = min(loads, key=loads.get)\n",
    "        M[availIdx].append(task)\n",
    "    \n",
    "    return M\n",
    "```\n",
    "\n",
    "```LPT``` est juste une variation de ```LST```, en ordonnant les tâches dans l'ordre décroissant, qui prend $\\mathcal{O}(n^2)$ ou $\\mathcal{O}(n log(n))$ selon le choix de [l'algorithme de tri](https://docs.scipy.org/doc/numpy/reference/generated/numpy.sort.html#Notes). Au final, ```LPT``` prend $\\mathcal{O}(n^2)$ temps.\n"
   ]
  },
  {
   "cell_type": "markdown",
   "metadata": {},
   "source": [
    "### ```MyAlgo```\n",
    "\n",
    "```python\n",
    "def MyAlgo(m: int, tasks: list):\n",
    "    \"\"\"Affecter les tâches en utilisant le principe du Min Binpacking. \n",
    "    On va essayer de faire m bins de capacité ~opt \"\"\"\n",
    "\n",
    "    M = dict([(i, []) for i in range(1, m+1)])\n",
    "    opt = np.ceil(len(tasks)/m)\n",
    "    tasks = tasks = np.sort(tasks, kind=\"mergesort\")\n",
    "    \n",
    "    # \n",
    "    macIdx = 1\n",
    "    for task in tasks: # n itérations\n",
    "        if(macIdx < m - 1):\n",
    "            while(sum(M[macIdx]) <= opt):\n",
    "                M[macIdx].append(task) # O(1)\n",
    "            macIdx += 1\n",
    "        else:\n",
    "            M[macIdx].append(task)\n",
    "    \n",
    "    return M\n",
    "```\n",
    "\n",
    "Le mapping consiste à parcourir chacun de $m$ machines puis faire une somme des durées. \n",
    "- $d'_1$: ```loads``` contient 1 tâche,\n",
    "- $d'_2$: ```loads``` contient 2 tâches \n",
    "- ...\n",
    "- $d'_n$: ```loads``` contient $n$ tâches\n",
    "\n",
    "A chaque itération on fait ```sum``` du nombre de tâches au courant. Le nombre d'itérations au total est donc la somme d'une suite arithmétique $(1, 2, ..., n)$, donc $\\frac{n(n+1)}{2} = \\frac{n^2 + n}{2}$. Au final, ```LSA``` prend $\\mathcal{O}(n^2)$ temps.\n"
   ]
  },
  {
   "cell_type": "markdown",
   "metadata": {},
   "source": [
    "# Résultats"
   ]
  },
  {
   "cell_type": "code",
   "execution_count": null,
   "metadata": {},
   "outputs": [],
   "source": []
  }
 ],
 "metadata": {
  "kernelspec": {
   "display_name": "Python 3",
   "language": "python",
   "name": "python3"
  },
  "language_info": {
   "codemirror_mode": {
    "name": "ipython",
    "version": 3
   },
   "file_extension": ".py",
   "mimetype": "text/x-python",
   "name": "python",
   "nbconvert_exporter": "python",
   "pygments_lexer": "ipython3",
   "version": "3.7.5"
  }
 },
 "nbformat": 4,
 "nbformat_minor": 2
}
